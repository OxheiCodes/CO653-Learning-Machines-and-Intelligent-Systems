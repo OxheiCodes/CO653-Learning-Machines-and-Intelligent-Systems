{
 "cells": [
  {
   "cell_type": "code",
   "execution_count": 1,
   "id": "1265cf15",
   "metadata": {
    "_cell_guid": "b1076dfc-b9ad-4769-8c92-a6c4dae69d19",
    "_uuid": "8f2839f25d086af736a60e9eeb907d3b93b6e0e5",
    "execution": {
     "iopub.execute_input": "2025-03-27T01:12:59.505190Z",
     "iopub.status.busy": "2025-03-27T01:12:59.504592Z",
     "iopub.status.idle": "2025-03-27T01:13:16.939247Z",
     "shell.execute_reply": "2025-03-27T01:13:16.938097Z"
    },
    "papermill": {
     "duration": 17.441094,
     "end_time": "2025-03-27T01:13:16.941207",
     "exception": false,
     "start_time": "2025-03-27T01:12:59.500113",
     "status": "completed"
    },
    "tags": []
   },
   "outputs": [
    {
     "ename": "ModuleNotFoundError",
     "evalue": "No module named 'tensorflow'",
     "output_type": "error",
     "traceback": [
      "\u001b[31m---------------------------------------------------------------------------\u001b[39m",
      "\u001b[31mModuleNotFoundError\u001b[39m                       Traceback (most recent call last)",
      "\u001b[36mCell\u001b[39m\u001b[36m \u001b[39m\u001b[32mIn[1]\u001b[39m\u001b[32m, line 4\u001b[39m\n\u001b[32m      2\u001b[39m \u001b[38;5;28;01mimport\u001b[39;00m\u001b[38;5;250m \u001b[39m\u001b[34;01mpandas\u001b[39;00m\u001b[38;5;250m \u001b[39m\u001b[38;5;28;01mas\u001b[39;00m\u001b[38;5;250m \u001b[39m\u001b[34;01mpd\u001b[39;00m\n\u001b[32m      3\u001b[39m \u001b[38;5;28;01mfrom\u001b[39;00m\u001b[38;5;250m \u001b[39m\u001b[34;01msklearn\u001b[39;00m\u001b[34;01m.\u001b[39;00m\u001b[34;01mmodel_selection\u001b[39;00m\u001b[38;5;250m \u001b[39m\u001b[38;5;28;01mimport\u001b[39;00m train_test_split\n\u001b[32m----> \u001b[39m\u001b[32m4\u001b[39m \u001b[38;5;28;01mfrom\u001b[39;00m\u001b[38;5;250m \u001b[39m\u001b[34;01mtensorflow\u001b[39;00m\u001b[34;01m.\u001b[39;00m\u001b[34;01mkeras\u001b[39;00m\u001b[34;01m.\u001b[39;00m\u001b[34;01mpreprocessing\u001b[39;00m\u001b[34;01m.\u001b[39;00m\u001b[34;01mtext\u001b[39;00m\u001b[38;5;250m \u001b[39m\u001b[38;5;28;01mimport\u001b[39;00m Tokenizer\n\u001b[32m      5\u001b[39m \u001b[38;5;28;01mfrom\u001b[39;00m\u001b[38;5;250m \u001b[39m\u001b[34;01mtensorflow\u001b[39;00m\u001b[34;01m.\u001b[39;00m\u001b[34;01mkeras\u001b[39;00m\u001b[34;01m.\u001b[39;00m\u001b[34;01mpreprocessing\u001b[39;00m\u001b[34;01m.\u001b[39;00m\u001b[34;01msequence\u001b[39;00m\u001b[38;5;250m \u001b[39m\u001b[38;5;28;01mimport\u001b[39;00m pad_sequences\n\u001b[32m      6\u001b[39m \u001b[38;5;28;01mfrom\u001b[39;00m\u001b[38;5;250m \u001b[39m\u001b[34;01mtensorflow\u001b[39;00m\u001b[34;01m.\u001b[39;00m\u001b[34;01mkeras\u001b[39;00m\u001b[34;01m.\u001b[39;00m\u001b[34;01mmodels\u001b[39;00m\u001b[38;5;250m \u001b[39m\u001b[38;5;28;01mimport\u001b[39;00m Sequential\n",
      "\u001b[31mModuleNotFoundError\u001b[39m: No module named 'tensorflow'"
     ]
    }
   ],
   "source": [
    "    import numpy as np\n",
    "    import pandas as pd\n",
    "    from sklearn.model_selection import train_test_split\n",
    "    from tensorflow.keras.preprocessing.text import Tokenizer\n",
    "    from tensorflow.keras.preprocessing.sequence import pad_sequences\n",
    "    from tensorflow.keras.models import Sequential\n",
    "    from tensorflow.keras.layers import Embedding, LSTM, Dense, Dropout"
   ]
  },
  {
   "cell_type": "code",
   "execution_count": null,
   "id": "546f1e5b",
   "metadata": {
    "execution": {
     "iopub.execute_input": "2025-03-27T01:13:16.948418Z",
     "iopub.status.busy": "2025-03-27T01:13:16.947690Z",
     "iopub.status.idle": "2025-03-27T01:13:16.996707Z",
     "shell.execute_reply": "2025-03-27T01:13:16.995753Z"
    },
    "papermill": {
     "duration": 0.0544,
     "end_time": "2025-03-27T01:13:16.998624",
     "exception": false,
     "start_time": "2025-03-27T01:13:16.944224",
     "status": "completed"
    },
    "tags": []
   },
   "outputs": [],
   "source": [
    "    # Load data\n",
    "    data = pd.read_csv('/kaggle/input/spamemaildata/spam.csv')\n",
    "    data['Spam'] = data['Category'].apply(lambda x: 1 if x == 'spam' else 0)"
   ]
  },
  {
   "cell_type": "code",
   "execution_count": null,
   "id": "a518677b",
   "metadata": {
    "execution": {
     "iopub.execute_input": "2025-03-27T01:13:17.005382Z",
     "iopub.status.busy": "2025-03-27T01:13:17.005030Z",
     "iopub.status.idle": "2025-03-27T01:13:17.016837Z",
     "shell.execute_reply": "2025-03-27T01:13:17.015770Z"
    },
    "papermill": {
     "duration": 0.017222,
     "end_time": "2025-03-27T01:13:17.018640",
     "exception": false,
     "start_time": "2025-03-27T01:13:17.001418",
     "status": "completed"
    },
    "tags": []
   },
   "outputs": [],
   "source": [
    "# Split data\n",
    "X_train, X_test, y_train, y_test = train_test_split(data['Message'], data['Spam'], test_size=0.25, random_state=42)"
   ]
  },
  {
   "cell_type": "code",
   "execution_count": null,
   "id": "aa5abbbd",
   "metadata": {
    "execution": {
     "iopub.execute_input": "2025-03-27T01:13:17.025269Z",
     "iopub.status.busy": "2025-03-27T01:13:17.024864Z",
     "iopub.status.idle": "2025-03-27T01:13:17.206642Z",
     "shell.execute_reply": "2025-03-27T01:13:17.205703Z"
    },
    "papermill": {
     "duration": 0.187197,
     "end_time": "2025-03-27T01:13:17.208504",
     "exception": false,
     "start_time": "2025-03-27T01:13:17.021307",
     "status": "completed"
    },
    "tags": []
   },
   "outputs": [],
   "source": [
    "# Tokenize text\n",
    "tokenizer = Tokenizer(num_words=5000, oov_token='<OOV>')\n",
    "tokenizer.fit_on_texts(X_train)\n",
    "X_train_seq = tokenizer.texts_to_sequences(X_train)\n",
    "X_test_seq = tokenizer.texts_to_sequences(X_test)"
   ]
  },
  {
   "cell_type": "code",
   "execution_count": null,
   "id": "358168e3",
   "metadata": {
    "execution": {
     "iopub.execute_input": "2025-03-27T01:13:17.214982Z",
     "iopub.status.busy": "2025-03-27T01:13:17.214582Z",
     "iopub.status.idle": "2025-03-27T01:13:17.236864Z",
     "shell.execute_reply": "2025-03-27T01:13:17.235996Z"
    },
    "papermill": {
     "duration": 0.027413,
     "end_time": "2025-03-27T01:13:17.238630",
     "exception": false,
     "start_time": "2025-03-27T01:13:17.211217",
     "status": "completed"
    },
    "tags": []
   },
   "outputs": [],
   "source": [
    "# Pad sequences for uniform length\n",
    "max_len = 100  # Truncate or pad all sequences to this length\n",
    "X_train_padded = pad_sequences(X_train_seq, maxlen=max_len, padding='post', truncating='post')\n",
    "X_test_padded = pad_sequences(X_test_seq, maxlen=max_len, padding='post', truncating='post')"
   ]
  },
  {
   "cell_type": "code",
   "execution_count": null,
   "id": "308b583a",
   "metadata": {
    "execution": {
     "iopub.execute_input": "2025-03-27T01:13:17.245064Z",
     "iopub.status.busy": "2025-03-27T01:13:17.244658Z",
     "iopub.status.idle": "2025-03-27T01:13:17.311639Z",
     "shell.execute_reply": "2025-03-27T01:13:17.310531Z"
    },
    "papermill": {
     "duration": 0.072147,
     "end_time": "2025-03-27T01:13:17.313457",
     "exception": false,
     "start_time": "2025-03-27T01:13:17.241310",
     "status": "completed"
    },
    "tags": []
   },
   "outputs": [],
   "source": [
    "# Build LSTM model\n",
    "model = Sequential([\n",
    "    Embedding(input_dim=5000, output_dim=64, input_length=max_len),\n",
    "    LSTM(64, return_sequences=False),\n",
    "    Dense(32, activation='relu'),\n",
    "    Dropout(0.5),\n",
    "    Dense(1, activation='sigmoid')\n",
    "])\n",
    "\n",
    "model.compile(loss='binary_crossentropy', optimizer='adam', metrics=['accuracy'])"
   ]
  },
  {
   "cell_type": "code",
   "execution_count": null,
   "id": "a4f7fd43",
   "metadata": {
    "execution": {
     "iopub.execute_input": "2025-03-27T01:13:17.320277Z",
     "iopub.status.busy": "2025-03-27T01:13:17.319821Z",
     "iopub.status.idle": "2025-03-27T01:14:04.290997Z",
     "shell.execute_reply": "2025-03-27T01:14:04.290020Z"
    },
    "papermill": {
     "duration": 46.977011,
     "end_time": "2025-03-27T01:14:04.293210",
     "exception": false,
     "start_time": "2025-03-27T01:13:17.316199",
     "status": "completed"
    },
    "tags": []
   },
   "outputs": [],
   "source": [
    "# Train\n",
    "history = model.fit(\n",
    "    X_train_padded, y_train,\n",
    "    epochs=10,\n",
    "    validation_data=(X_test_padded, y_test),\n",
    "    batch_size=64\n",
    ")"
   ]
  },
  {
   "cell_type": "code",
   "execution_count": null,
   "id": "9dcd04d5",
   "metadata": {
    "execution": {
     "iopub.execute_input": "2025-03-27T01:14:04.377382Z",
     "iopub.status.busy": "2025-03-27T01:14:04.376964Z",
     "iopub.status.idle": "2025-03-27T01:14:05.251355Z",
     "shell.execute_reply": "2025-03-27T01:14:05.250077Z"
    },
    "papermill": {
     "duration": 0.917179,
     "end_time": "2025-03-27T01:14:05.253324",
     "exception": false,
     "start_time": "2025-03-27T01:14:04.336145",
     "status": "completed"
    },
    "tags": []
   },
   "outputs": [],
   "source": [
    "# Evaluate\n",
    "test_loss, test_acc = model.evaluate(X_test_padded, y_test)\n",
    "print(f'Test Accuracy: {test_acc * 100:.2f}%')"
   ]
  }
 ],
 "metadata": {
  "kaggle": {
   "accelerator": "none",
   "dataSources": [
    {
     "datasetId": 6977724,
     "sourceId": 11179373,
     "sourceType": "datasetVersion"
    }
   ],
   "dockerImageVersionId": 30918,
   "isGpuEnabled": false,
   "isInternetEnabled": false,
   "language": "python",
   "sourceType": "notebook"
  },
  "kernelspec": {
   "display_name": ".venv",
   "language": "python",
   "name": "python3"
  },
  "language_info": {
   "codemirror_mode": {
    "name": "ipython",
    "version": 3
   },
   "file_extension": ".py",
   "mimetype": "text/x-python",
   "name": "python",
   "nbconvert_exporter": "python",
   "pygments_lexer": "ipython3",
   "version": "3.13.2"
  },
  "papermill": {
   "default_parameters": {},
   "duration": 70.457201,
   "end_time": "2025-03-27T01:14:07.118513",
   "environment_variables": {},
   "exception": null,
   "input_path": "__notebook__.ipynb",
   "output_path": "__notebook__.ipynb",
   "parameters": {},
   "start_time": "2025-03-27T01:12:56.661312",
   "version": "2.6.0"
  }
 },
 "nbformat": 4,
 "nbformat_minor": 5
}
